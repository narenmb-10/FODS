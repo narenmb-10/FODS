{
  "nbformat": 4,
  "nbformat_minor": 0,
  "metadata": {
    "colab": {
      "provenance": []
    },
    "kernelspec": {
      "name": "python3",
      "display_name": "Python 3"
    },
    "language_info": {
      "name": "python"
    }
  },
  "cells": [
    {
      "cell_type": "code",
      "execution_count": 1,
      "metadata": {
        "id": "Cxv_eTM0J-Tx"
      },
      "outputs": [],
      "source": [
        "import pandas as pd\n",
        "transactions_data = {\n",
        "    'TransactionID': [1, 2, 3, 4, 5, 6, 7, 8, 9, 10],\n",
        "    'CustomerID': [101, 102, 103, 104, 105, 101, 102, 103, 104, 105],\n",
        "    'ProductID': [201, 202, 203, 204, 205, 201, 202, 203, 204, 205],\n",
        "    'Quantity': [2, 1, 3, 5, 1, 2, 1, 3, 5, 1],\n",
        "    'Price': [10.0, 15.0, 7.5, 20.0, 15.0, 10.0, 15.0, 7.5, 20.0, 15.0],\n",
        "    'Order Date': ['2024-01-01', '2024-01-02', '2024-01-03', '2024-01-04', '2024-01-05',\n",
        "                   '2024-01-01', '2024-01-02', '2024-01-03', '2024-01-04', '2024-01-05'],\n",
        "    'CustomerLocation': ['New York', 'Los Angeles', 'Chicago', 'Houston', 'Phoenix',\n",
        "                         'New York', 'Los Angeles', 'Chicago', 'Houston', 'Phoenix']\n",
        "}\n",
        "products_data = {\n",
        "    'ProductID': [201, 202, 203, 204, 205],\n",
        "    'ProductName': ['Widget A', 'Widget B', 'Widget C', 'Widget D', 'Widget E'],\n",
        "    'Category': ['Gadgets', 'Gadgets', 'Gadgets', 'Tools', 'Tools']\n",
        "}\n",
        "\n",
        "transactions_df = pd.DataFrame(transactions_data)\n",
        "products_df = pd.DataFrame(products_data)"
      ]
    },
    {
      "cell_type": "markdown",
      "source": [
        "Merge the two tables on ProductID:"
      ],
      "metadata": {
        "id": "h3wbz_UsKSMz"
      }
    },
    {
      "cell_type": "code",
      "source": [
        "integrated_df = pd.merge(transactions_df, products_df, on='ProductID')\n",
        "print(integrated_df.head())"
      ],
      "metadata": {
        "colab": {
          "base_uri": "https://localhost:8080/"
        },
        "id": "fprkh5i4KHlA",
        "outputId": "dae5596f-f36c-49c1-ab71-d280732c0b9e"
      },
      "execution_count": 2,
      "outputs": [
        {
          "output_type": "stream",
          "name": "stdout",
          "text": [
            "   TransactionID  CustomerID  ProductID  Quantity  Price  Order Date  \\\n",
            "0              1         101        201         2   10.0  2024-01-01   \n",
            "1              6         101        201         2   10.0  2024-01-01   \n",
            "2              2         102        202         1   15.0  2024-01-02   \n",
            "3              7         102        202         1   15.0  2024-01-02   \n",
            "4              3         103        203         3    7.5  2024-01-03   \n",
            "\n",
            "  CustomerLocation ProductName Category  \n",
            "0         New York    Widget A  Gadgets  \n",
            "1         New York    Widget A  Gadgets  \n",
            "2      Los Angeles    Widget B  Gadgets  \n",
            "3      Los Angeles    Widget B  Gadgets  \n",
            "4          Chicago    Widget C  Gadgets  \n"
          ]
        }
      ]
    },
    {
      "cell_type": "markdown",
      "source": [
        "Removing Duplicates"
      ],
      "metadata": {
        "id": "_YibXKShKjfJ"
      }
    },
    {
      "cell_type": "code",
      "source": [
        "integrated_df.drop_duplicates(inplace=True)"
      ],
      "metadata": {
        "id": "zfIgns-bKV5L"
      },
      "execution_count": 3,
      "outputs": []
    },
    {
      "cell_type": "markdown",
      "source": [
        "Handling Outliers in Price Column Using IQR"
      ],
      "metadata": {
        "id": "UQ-fJMyeKnwx"
      }
    },
    {
      "cell_type": "code",
      "source": [
        "Q1 = integrated_df['Price'].quantile(0.25)\n",
        "Q3 = integrated_df['Price'].quantile(0.75)\n",
        "IQR = Q3 - Q1\n",
        "integrated_df = integrated_df[(integrated_df['Price'] >= (Q1 - 1.5 * IQR)) & (integrated_df['Price'] <= (Q3 + 1.5 * IQR))]"
      ],
      "metadata": {
        "id": "NO4g1nNaKmCX"
      },
      "execution_count": 7,
      "outputs": []
    },
    {
      "cell_type": "markdown",
      "source": [
        "Min-Max Normalization"
      ],
      "metadata": {
        "id": "nPNoQaqPKzPT"
      }
    },
    {
      "cell_type": "code",
      "source": [
        "integrated_df['Quantity'] = (integrated_df['Quantity'] - integrated_df['Quantity'].min()) / (integrated_df['Quantity'].max() - integrated_df['Quantity'].min())\n",
        "integrated_df['Price'] = (integrated_df['Price'] - integrated_df['Price'].min()) / (integrated_df['Price'].max() - integrated_df['Price'].min())\n",
        "print(integrated_df.head())"
      ],
      "metadata": {
        "colab": {
          "base_uri": "https://localhost:8080/"
        },
        "id": "Ydyu14y8Kr0M",
        "outputId": "a2f8fd78-034b-4064-bf97-7f968103787e"
      },
      "execution_count": 8,
      "outputs": [
        {
          "output_type": "stream",
          "name": "stdout",
          "text": [
            "   TransactionID  CustomerID  ProductID  Quantity  Price  Order Date  \\\n",
            "0              1         101        201      0.25    0.2  2024-01-01   \n",
            "1              6         101        201      0.25    0.2  2024-01-01   \n",
            "2              2         102        202      0.00    0.6  2024-01-02   \n",
            "3              7         102        202      0.00    0.6  2024-01-02   \n",
            "4              3         103        203      0.50    0.0  2024-01-03   \n",
            "\n",
            "  CustomerLocation ProductName Category  \n",
            "0         New York    Widget A  Gadgets  \n",
            "1         New York    Widget A  Gadgets  \n",
            "2      Los Angeles    Widget B  Gadgets  \n",
            "3      Los Angeles    Widget B  Gadgets  \n",
            "4          Chicago    Widget C  Gadgets  \n"
          ]
        }
      ]
    },
    {
      "cell_type": "markdown",
      "source": [
        "One-Hot Encoding"
      ],
      "metadata": {
        "id": "KwyHNnMNLLnl"
      }
    },
    {
      "cell_type": "code",
      "source": [
        "integrated_df = pd.get_dummies(integrated_df, columns=['Category'], drop_first=True)\n",
        "print(integrated_df.head())"
      ],
      "metadata": {
        "colab": {
          "base_uri": "https://localhost:8080/"
        },
        "id": "hGTyZETcLGXs",
        "outputId": "bd269377-8686-43a4-f37b-2d4f335397f0"
      },
      "execution_count": 9,
      "outputs": [
        {
          "output_type": "stream",
          "name": "stdout",
          "text": [
            "   TransactionID  CustomerID  ProductID  Quantity  Price  Order Date  \\\n",
            "0              1         101        201      0.25    0.2  2024-01-01   \n",
            "1              6         101        201      0.25    0.2  2024-01-01   \n",
            "2              2         102        202      0.00    0.6  2024-01-02   \n",
            "3              7         102        202      0.00    0.6  2024-01-02   \n",
            "4              3         103        203      0.50    0.0  2024-01-03   \n",
            "\n",
            "  CustomerLocation ProductName  Category_Tools  \n",
            "0         New York    Widget A           False  \n",
            "1         New York    Widget A           False  \n",
            "2      Los Angeles    Widget B           False  \n",
            "3      Los Angeles    Widget B           False  \n",
            "4          Chicago    Widget C           False  \n"
          ]
        }
      ]
    }
  ]
}