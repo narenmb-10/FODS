{
  "nbformat": 4,
  "nbformat_minor": 0,
  "metadata": {
    "colab": {
      "provenance": []
    },
    "kernelspec": {
      "name": "python3",
      "display_name": "Python 3"
    },
    "language_info": {
      "name": "python"
    }
  },
  "cells": [
    {
      "cell_type": "code",
      "execution_count": 1,
      "metadata": {
        "id": "G41T1CvALsfm"
      },
      "outputs": [],
      "source": [
        "import pandas as pd\n",
        "employees_data = {\n",
        "    'EmployeeID': [1, 2, 3, 4, 5, 1, 6, 7, 8, 9],\n",
        "    'Name': ['Alice', 'Bob', 'Charlie', 'David', 'Eve', 'Alice', 'Frank', 'Grace', 'Heidi', 'Ivan'],\n",
        "    'DepartmentID': [101, 102, 101, 103, 102, 101, 104, 105, 106, 107],\n",
        "    'Salary': [6000, 7000, 8000, 5000, 7500, 6000, 9000, 4000, 3000, 10000],\n",
        "    'HireDate': ['2020-01-15', '2019-03-22', '2021-06-30', '2018-07-19', '2022-09-10',\n",
        "                 '2020-01-15', '2017-12-01', '2023-02-11', '2023-05-05', '2015-11-30'],\n",
        "    'Location': ['New York', 'Los Angeles', 'New York', 'Chicago', 'Los Angeles',\n",
        "                 'New York', 'Houston', 'Phoenix', 'Chicago', 'New York']\n",
        "}\n",
        "departments_data = {\n",
        "    'DepartmentID': [101, 102, 103, 104, 105, 106, 107],\n",
        "    'DepartmentName': ['HR', 'Finance', 'IT', 'Marketing', 'Sales', 'Support', 'Admin']\n",
        "}\n",
        "employees_df = pd.DataFrame(employees_data)\n",
        "departments_df = pd.DataFrame(departments_data)"
      ]
    },
    {
      "cell_type": "markdown",
      "source": [
        "Merge the two tables on DepartmentID:"
      ],
      "metadata": {
        "id": "1O2d4GEVMQq0"
      }
    },
    {
      "cell_type": "code",
      "source": [
        "merged_df = pd.merge(employees_df, departments_df, on='DepartmentID')\n",
        "print(merged_df.head())"
      ],
      "metadata": {
        "colab": {
          "base_uri": "https://localhost:8080/"
        },
        "id": "30gAiwM_MJPo",
        "outputId": "ffcc824c-5fe9-484c-d932-fab8e06a8aae"
      },
      "execution_count": 2,
      "outputs": [
        {
          "output_type": "stream",
          "name": "stdout",
          "text": [
            "   EmployeeID     Name  DepartmentID  Salary    HireDate     Location  \\\n",
            "0           1    Alice           101    6000  2020-01-15     New York   \n",
            "1           3  Charlie           101    8000  2021-06-30     New York   \n",
            "2           1    Alice           101    6000  2020-01-15     New York   \n",
            "3           2      Bob           102    7000  2019-03-22  Los Angeles   \n",
            "4           5      Eve           102    7500  2022-09-10  Los Angeles   \n",
            "\n",
            "  DepartmentName  \n",
            "0             HR  \n",
            "1             HR  \n",
            "2             HR  \n",
            "3        Finance  \n",
            "4        Finance  \n"
          ]
        }
      ]
    },
    {
      "cell_type": "markdown",
      "source": [
        "Removing Duplicates"
      ],
      "metadata": {
        "id": "qlxRP8gYMU90"
      }
    },
    {
      "cell_type": "code",
      "source": [
        "merged_df.drop_duplicates(inplace=True)"
      ],
      "metadata": {
        "id": "DduVpLutMS0Z"
      },
      "execution_count": 3,
      "outputs": []
    },
    {
      "cell_type": "markdown",
      "source": [
        "Handling Outliers in Salary Column Using IQR"
      ],
      "metadata": {
        "id": "MhIHdRLyMaKa"
      }
    },
    {
      "cell_type": "code",
      "source": [
        "Q1 = merged_df['Salary'].quantile(0.25)\n",
        "Q3 = merged_df['Salary'].quantile(0.75)\n",
        "IQR = Q3 - Q1\n",
        "merged_df = merged_df[(merged_df['Salary'] >= (Q1 - 1.5 * IQR)) & (merged_df['Salary'] <= (Q3 + 1.5 * IQR))]"
      ],
      "metadata": {
        "id": "uXIFizZNMXOT"
      },
      "execution_count": 4,
      "outputs": []
    },
    {
      "cell_type": "markdown",
      "source": [
        "Min-Max normalization on the Salary column:"
      ],
      "metadata": {
        "id": "_9suWiA9MhZj"
      }
    },
    {
      "cell_type": "code",
      "source": [
        "merged_df['Salary'] = (merged_df['Salary'] - merged_df['Salary'].min()) / (merged_df['Salary'].max() - merged_df['Salary'].min())\n",
        "print(merged_df.head())"
      ],
      "metadata": {
        "colab": {
          "base_uri": "https://localhost:8080/"
        },
        "id": "cIEi92OKMeRB",
        "outputId": "bd858687-9ae3-41ce-d588-e00c847361f2"
      },
      "execution_count": 5,
      "outputs": [
        {
          "output_type": "stream",
          "name": "stdout",
          "text": [
            "   EmployeeID     Name  DepartmentID    Salary    HireDate     Location  \\\n",
            "0           1    Alice           101  0.428571  2020-01-15     New York   \n",
            "1           3  Charlie           101  0.714286  2021-06-30     New York   \n",
            "3           2      Bob           102  0.571429  2019-03-22  Los Angeles   \n",
            "4           5      Eve           102  0.642857  2022-09-10  Los Angeles   \n",
            "5           4    David           103  0.285714  2018-07-19      Chicago   \n",
            "\n",
            "  DepartmentName  \n",
            "0             HR  \n",
            "1             HR  \n",
            "3        Finance  \n",
            "4        Finance  \n",
            "5             IT  \n"
          ]
        }
      ]
    },
    {
      "cell_type": "markdown",
      "source": [
        "Apply one-hot encoding to the Location column:"
      ],
      "metadata": {
        "id": "qwJTJOioMlvb"
      }
    },
    {
      "cell_type": "code",
      "source": [
        "merged_df = pd.get_dummies(merged_df, columns=['Location'], drop_first=True)\n",
        "print(merged_df.head())"
      ],
      "metadata": {
        "colab": {
          "base_uri": "https://localhost:8080/"
        },
        "id": "3MqXBikjMjrr",
        "outputId": "dd358cb0-7689-4a1c-a9d7-192c4f1aae82"
      },
      "execution_count": 6,
      "outputs": [
        {
          "output_type": "stream",
          "name": "stdout",
          "text": [
            "   EmployeeID     Name  DepartmentID    Salary    HireDate DepartmentName  \\\n",
            "0           1    Alice           101  0.428571  2020-01-15             HR   \n",
            "1           3  Charlie           101  0.714286  2021-06-30             HR   \n",
            "3           2      Bob           102  0.571429  2019-03-22        Finance   \n",
            "4           5      Eve           102  0.642857  2022-09-10        Finance   \n",
            "5           4    David           103  0.285714  2018-07-19             IT   \n",
            "\n",
            "   Location_Houston  Location_Los Angeles  Location_New York  Location_Phoenix  \n",
            "0             False                 False               True             False  \n",
            "1             False                 False               True             False  \n",
            "3             False                  True              False             False  \n",
            "4             False                  True              False             False  \n",
            "5             False                 False              False             False  \n"
          ]
        }
      ]
    }
  ]
}